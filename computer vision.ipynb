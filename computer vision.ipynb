{
 "cells": [
  {
   "cell_type": "code",
   "execution_count": 42,
   "metadata": {},
   "outputs": [
    {
     "name": "stdout",
     "output_type": "stream",
     "text": [
      "Matrix Mt is:  [[ 0.15835648 -0.06458184  0.28088118  0.0954863 ]\n",
      " [ 0.16594055  1.02653795 -0.1241919  -1.23614761]\n",
      " [-0.11476644 -1.51587742  0.36394812  2.79533111]]\n"
     ]
    }
   ],
   "source": [
    "import numpy as np\n",
    "# wipi = McMtPi\n",
    "Pi = [[0,3,50],\n",
    "    [2,-5,47], \n",
    "    [-1,7,60], \n",
    "    [5,-1,40], \n",
    "    [0,2,45], \n",
    "    [3,-4,44]] \n",
    "Pi = np.array(Pi)\n",
    "Pi2 = np.float32(Pi[:, np.newaxis, :])\n",
    "\n",
    "gi = [[0,3,30],\n",
    "    [-3,-5,28],\n",
    "    [10,7,31],\n",
    "    [-10,1,25],\n",
    "    [-5,2,30],\n",
    "    [-6,-4,27]]\n",
    "gi = np.array(gi)\n",
    "Mc = np.identity(6)\n",
    "# Mc1 = np.dot(Mc, Pi)\n",
    "Mc1 = np.matmul(Mc, Pi)\n",
    "# print(Mc1)\n",
    "# Mc1\n",
    "Mtt = np.matmul(gi, np.linalg.pinv(Mc1))\n",
    "Mt = Mtt[:3,:4]\n",
    "# print(Mc)\n",
    "\n",
    "print('Matrix Mt is: ',Mt)#[0:3,:])\n",
    "\n",
    "pi = np.matmul(Mtt, Pi)\n",
    "pi2 = np.float32(pi[:, np.newaxis, :])"
   ]
  },
  {
   "cell_type": "code",
   "execution_count": 33,
   "metadata": {},
   "outputs": [
    {
     "data": {
      "text/plain": [
       "-28.746574730127787"
      ]
     },
     "execution_count": 33,
     "metadata": {},
     "output_type": "execute_result"
    }
   ],
   "source": [
    "k = 1\n",
    "def cal_normal_random(mean,sigma):\n",
    "    max_ = 2147483647\n",
    "    rand_num= []\n",
    "    for i in range (0,12):\n",
    "        rand_num.append(np.random.randn()/(max_))\n",
    "    c1 = 0.029899776 ;\n",
    "    c2 = 0.008355968 ;\n",
    "    c3 = 0.076542912 ;\n",
    "    c4 = 0.252408784 ;\n",
    "    c5 = 3.949846138 ;\n",
    "\n",
    "    r = 0.0 ;\n",
    "    for i in range(0,12):\n",
    "        r += rand_num[i] ;\n",
    "        r = (r-6.0)/4.0 ;\n",
    "        r2 = r*r ;\n",
    "    gauss_rand=((((c1*r2+c2)*r2+c3)*r2+c4)*r2 +c5)*r ;\n",
    "    return(mean+sigma*gauss_rand)\n",
    "\n",
    "cal_normal_random(mean = 0 ,sigma = 1)\n"
   ]
  },
  {
   "cell_type": "code",
   "execution_count": 97,
   "metadata": {},
   "outputs": [
    {
     "name": "stdout",
     "output_type": "stream",
     "text": [
      "[[-27, -24, 3], [-30, -32, 1], [-17, -20, 4], [-37, -26, -2], [-32, -25, 3], [-33, -31, 0]]\n"
     ]
    }
   ],
   "source": [
    "m = cal_normal_random(mean = 0 ,sigma = 1)\n",
    "\n",
    "# gi'\n",
    "gi = [[0,3,30],\n",
    "    [-3,-5,28],\n",
    "    [10,7,31],\n",
    "    [-10,1,25],\n",
    "    [-5,2,30],\n",
    "    [-6,-4,27]]\n",
    "for i in range(6):\n",
    "    for j in range(3):\n",
    "         gi[i][j] += int(1 % m)\n",
    "#gi` = gi1\n",
    "gi1 = np.array(gi)\n",
    "#pi` = piz\n",
    "piz = pi.T\n",
    "print(gi)"
   ]
  },
  {
   "cell_type": "code",
   "execution_count": 45,
   "metadata": {},
   "outputs": [
    {
     "data": {
      "text/plain": [
       "array([[ -84.,  109., -430.],\n",
       "       [ -24.,  102.,  289.],\n",
       "       [ 231.,   94., 8214.]])"
      ]
     },
     "execution_count": 45,
     "metadata": {},
     "output_type": "execute_result"
    }
   ],
   "source": [
    "#Mi' = Min\n",
    "Min = np.matmul(piz, Pi)\n",
    "Min"
   ]
  },
  {
   "cell_type": "code",
   "execution_count": 46,
   "metadata": {},
   "outputs": [
    {
     "data": {
      "text/plain": [
       "array([[ 1.0024618 , -1.40066714,  0.10212459],\n",
       "       [ 1.16156982, -1.66515306,  0.11951598],\n",
       "       [ 0.67881305, -0.98666595,  0.07073729],\n",
       "       [ 1.30375571, -1.76813541,  0.13021744],\n",
       "       [ 1.15539521, -1.58733041,  0.11669813],\n",
       "       [ 1.23745806, -1.74250234,  0.1260884 ]])"
      ]
     },
     "execution_count": 46,
     "metadata": {},
     "output_type": "execute_result"
    }
   ],
   "source": [
    "#Pi' = Piz\n",
    "Piz = np.matmul(gi1, np.linalg.pinv(Min))\n",
    "Piz"
   ]
  },
  {
   "cell_type": "code",
   "execution_count": 47,
   "metadata": {},
   "outputs": [
    {
     "name": "stdout",
     "output_type": "stream",
     "text": [
      "[[0.71379962]\n",
      " [0.08696483]\n",
      " [0.91170459]]\n"
     ]
    }
   ],
   "source": [
    "import cv2\n",
    "\n",
    "objectPoints = np.random.random((10,3,1))\n",
    "\n",
    "imagePoints = np.random.random((10,2,1))\n",
    "\n",
    "cameraMatrix = np.eye(3)\n",
    "\n",
    "distCoeffs = np.zeros((5,1))\n",
    "\n",
    "print(cv2.solvePnP(objectPoints, imagePoints, cameraMatrix, distCoeffs)[1])\n",
    "\n"
   ]
  },
  {
   "cell_type": "code",
   "execution_count": 89,
   "metadata": {},
   "outputs": [],
   "source": [
    "# mtx = np.float32(Mc[:, np.newaxis, :])\n",
    "# dist = np.float32(gi[:, np.newaxis, :])\n",
    "\n",
    "# rvec, tvec, inliers = cv2.solvePnPRansac(Pi2, pi2, mtx, dist)\n",
    "# print( \"Rvec\\n\", rvec)\n",
    "# print( \"\\nTvec\", tvec)\n",
    "\n",
    "\n",
    "# dst, jacobian = cv2.Rodrigues(rvec)\n",
    "# x = tvec[0][0]\n",
    "# y = tvec[2][0]\n",
    "# t = (math.asin(-dst[0][2]))\n",
    "\n",
    "# print( \"X\", x, \"Y\", y, \"Angle\", t)\n",
    "# print (\"90-t\", (math.pi/2) - t)\n",
    "\n",
    "# Rx = y * (math.cos((math.pi/2) - t))\n",
    "# Ry = y * (math.sin((math.pi/2) - t))\n",
    "\n",
    "# print( \"rx\", Rx, \"ry\", Ry)\n",
    "\n",
    "# cv2.solvePnP(Pi2, pi2, mtx, dist, useExtrinsicGuess=0)\n",
    "Pi = [[0,3,50],\n",
    "    [2,-5,47], \n",
    "    [-1,7,60], \n",
    "    [5,-1,40], \n",
    "    [0,2,45], \n",
    "    [3,-4,44]]\n",
    "v1 = []\n",
    "for i  in Pi:\n",
    "    for j in i:\n",
    "        v1.append(j) \n",
    "        \n",
    "v2 = []\n",
    "for i  in Piz:\n",
    "    for j in i:\n",
    "        v2.append(j) \n",
    "# v = [i for i in list(Pi)]\n",
    "# v1\n",
    "v3 = []\n",
    "for n in range(8):\n",
    "        j = (1/ 10) * (v1[n] - v2[n])**2\n",
    "        v3.append(j)\n",
    "        \n",
    "v4 = np.exp(sorted(v3))\n",
    "       "
   ]
  },
  {
   "cell_type": "code",
   "execution_count": 98,
   "metadata": {},
   "outputs": [
    {
     "data": {
      "text/plain": [
       "[0.10049296659462287,\n",
       " 1.9365871244689754,\n",
       " 248.97979704888226,\n",
       " 0.07029651679307881,\n",
       " 1.1121204095187693,\n",
       " 219.77797819757868,\n",
       " 0.28184132500784453,\n",
       " 6.37868330370686]"
      ]
     },
     "execution_count": 98,
     "metadata": {},
     "output_type": "execute_result"
    }
   ],
   "source": [
    "v3 "
   ]
  },
  {
   "cell_type": "code",
   "execution_count": 95,
   "metadata": {},
   "outputs": [
    {
     "data": {
      "text/plain": [
       "[<matplotlib.lines.Line2D at 0x29487e53cc0>]"
      ]
     },
     "execution_count": 95,
     "metadata": {},
     "output_type": "execute_result"
    },
    {
     "data": {
      "image/png": "[encoded data removed]",
      "text/plain": [
       "<Figure size 432x288 with 1 Axes>"
      ]
     },
     "metadata": {},
     "output_type": "display_data"
    }
   ],
   "source": [
    "import matplotlib.pyplot as plt\n",
    "%matplotlib inline\n",
    "plt.style.use('seaborn-whitegrid')\n",
    "fig = plt.figure()\n",
    "ax = plt.axes()\n",
    "\n",
    "ax.plot(v4)\n"
   ]
  },
  {
   "cell_type": "code",
   "execution_count": 70,
   "metadata": {},
   "outputs": [
    {
     "ename": "error",
     "evalue": "OpenCV(4.0.0) C:\\projects\\opencv-python\\opencv\\modules\\calib3d\\src\\solvepnp.cpp:92: error: (-215:Assertion failed) ( (npoints >= 4) || (npoints == 3 && flags == SOLVEPNP_ITERATIVE && useExtrinsicGuess) ) && npoints == std::max(ipoints.checkVector(2, CV_32F), ipoints.checkVector(2, CV_64F)) in function 'cv::solvePnP'\n",
     "output_type": "error",
     "traceback": [
      "\u001b[1;31m-------------------------------------------------------------\u001b[0m",
      "\u001b[1;31merror\u001b[0m                       Traceback (most recent call last)",
      "\u001b[1;32m<ipython-input-70-28f950b16780>\u001b[0m in \u001b[0;36m<module>\u001b[1;34m\u001b[0m\n\u001b[0;32m      1\u001b[0m \u001b[0mdistCoeffs\u001b[0m \u001b[1;33m=\u001b[0m \u001b[0mnp\u001b[0m\u001b[1;33m.\u001b[0m\u001b[0mzeros\u001b[0m\u001b[1;33m(\u001b[0m\u001b[1;33m(\u001b[0m\u001b[1;36m5\u001b[0m\u001b[1;33m,\u001b[0m\u001b[1;36m1\u001b[0m\u001b[1;33m)\u001b[0m\u001b[1;33m)\u001b[0m\u001b[1;33m\u001b[0m\u001b[0m\n\u001b[1;32m----> 2\u001b[1;33m \u001b[0mcv2\u001b[0m\u001b[1;33m.\u001b[0m\u001b[0msolvePnP\u001b[0m\u001b[1;33m(\u001b[0m\u001b[0mPi\u001b[0m\u001b[1;33m,\u001b[0m \u001b[0mpi\u001b[0m\u001b[1;33m,\u001b[0m \u001b[0mMc\u001b[0m\u001b[1;33m,\u001b[0m \u001b[0mdistCoeffs\u001b[0m\u001b[1;33m)\u001b[0m\u001b[1;33m\u001b[0m\u001b[0m\n\u001b[0m",
      "\u001b[1;31merror\u001b[0m: OpenCV(4.0.0) C:\\projects\\opencv-python\\opencv\\modules\\calib3d\\src\\solvepnp.cpp:92: error: (-215:Assertion failed) ( (npoints >= 4) || (npoints == 3 && flags == SOLVEPNP_ITERATIVE && useExtrinsicGuess) ) && npoints == std::max(ipoints.checkVector(2, CV_32F), ipoints.checkVector(2, CV_64F)) in function 'cv::solvePnP'\n"
     ]
    }
   ],
   "source": [
    "distCoeffs = np.zeros((5,1))\n",
    "cv2.solvePnP(Pi, pi, Mc, distCoeffs)"
   ]
  },
  {
   "cell_type": "code",
   "execution_count": null,
   "metadata": {},
   "outputs": [],
   "source": []
  }
 ],
 "metadata": {
  "kernelspec": {
   "display_name": "Python 3",
   "language": "python",
   "name": "python3"
  },
  "language_info": {
   "codemirror_mode": {
    "name": "ipython",
    "version": 3
   },
   "file_extension": ".py",
   "mimetype": "text/x-python",
   "name": "python",
   "nbconvert_exporter": "python",
   "pygments_lexer": "ipython3",
   "version": "3.6.6"
  }
 },
 "nbformat": 4,
 "nbformat_minor": 2
}
